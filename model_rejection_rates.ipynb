{
 "cells": [
  {
   "cell_type": "code",
   "execution_count": 1,
   "id": "f50f7a3e",
   "metadata": {},
   "outputs": [],
   "source": [
    "import pandas as pd\n",
    "import numpy as np\n",
    "import matplotlib.pyplot as plt\n",
    "from sklearn.model_selection import train_test_split\n",
    "from sklearn.metrics import mean_squared_error, mean_absolute_error, r2_score\n",
    "from sklearn.linear_model import LinearRegression\n",
    "from sklearn.ensemble import RandomForestRegressor, AdaBoostRegressor, GradientBoostingRegressor, HistGradientBoostingRegressor"
   ]
  },
  {
   "cell_type": "code",
   "execution_count": 2,
   "id": "303b0faa",
   "metadata": {},
   "outputs": [],
   "source": [
    "df_original = pd.read_csv('pharmacy_tx.csv')"
   ]
  },
  {
   "cell_type": "code",
   "execution_count": 3,
   "id": "dcbd3e09",
   "metadata": {},
   "outputs": [],
   "source": [
    "df = df_original.copy().drop(columns = ['tx_date', 'pharmacy', 'patient_pay'])"
   ]
  },
  {
   "cell_type": "code",
   "execution_count": 4,
   "id": "5a9f30e1",
   "metadata": {},
   "outputs": [
    {
     "name": "stderr",
     "output_type": "stream",
     "text": [
      "<ipython-input-4-452d2e24b45f>:4: SettingWithCopyWarning: \n",
      "A value is trying to be set on a copy of a slice from a DataFrame\n",
      "\n",
      "See the caveats in the documentation: https://pandas.pydata.org/pandas-docs/stable/user_guide/indexing.html#returning-a-view-versus-a-copy\n",
      "  df['rejected'][df['rejected'] == False] = 0\n"
     ]
    }
   ],
   "source": [
    "df['bin'] = df['bin'].astype(str)\n",
    "df['pcn'] = df['pcn'].astype(str).str.upper()\n",
    "df['group'] = df['group'].astype(str).str.upper()\n",
    "df['rejected'][df['rejected'] == False] = 0\n",
    "df['rejected'][df['rejected'] == True] = 1"
   ]
  },
  {
   "cell_type": "code",
   "execution_count": 5,
   "id": "1a1d9ec3",
   "metadata": {},
   "outputs": [],
   "source": [
    "df_train, df_test = train_test_split(df, test_size = 0.2, random_state = 614, shuffle = True, stratify = df['rejected'])"
   ]
  },
  {
   "cell_type": "code",
   "execution_count": 6,
   "id": "4a9e3eb9",
   "metadata": {},
   "outputs": [
    {
     "data": {
      "text/plain": [
       "0.9218662216229836"
      ]
     },
     "execution_count": 6,
     "metadata": {},
     "output_type": "execute_result"
    }
   ],
   "source": [
    "sum(df_test['rejected'] == 0) / len(df_test)"
   ]
  },
  {
   "cell_type": "code",
   "execution_count": 7,
   "id": "77a3bf4e",
   "metadata": {},
   "outputs": [],
   "source": [
    "f1_train = df_train.groupby(['drug'], as_index = False).rejected.mean()\n",
    "f1_train['f1'] = f1_train['rejected']\n",
    "del f1_train['rejected']\n",
    "df_train = pd.merge(df_train, f1_train, on = ['drug'], how = 'left')"
   ]
  },
  {
   "cell_type": "code",
   "execution_count": 8,
   "id": "a6471822",
   "metadata": {},
   "outputs": [],
   "source": [
    "f2_train = df_train.groupby(['diagnosis', 'drug'], as_index = False).rejected.mean()\n",
    "f2_train['f2'] = f2_train['rejected']\n",
    "del f2_train['rejected']\n",
    "df_train = pd.merge(df_train, f2_train, on = ['diagnosis', 'drug'], how = 'left')"
   ]
  },
  {
   "cell_type": "code",
   "execution_count": 9,
   "id": "89b03a2c",
   "metadata": {},
   "outputs": [],
   "source": [
    "f3_train = df_train.groupby(['drug', 'bin'], as_index = False).rejected.mean()\n",
    "f3_train['f3'] = f3_train['rejected']\n",
    "del f3_train['rejected']\n",
    "df_train = pd.merge(df_train, f3_train, on = ['drug', 'bin'], how = 'left')"
   ]
  },
  {
   "cell_type": "code",
   "execution_count": 10,
   "id": "b6ed1b2c",
   "metadata": {},
   "outputs": [],
   "source": [
    "f4_train = df_train.groupby(['drug', 'pcn'], as_index = False).rejected.mean()\n",
    "f4_train['f4'] = f4_train['rejected']\n",
    "del f4_train['rejected']\n",
    "df_train = pd.merge(df_train, f4_train, on = ['drug', 'pcn'], how = 'left')"
   ]
  },
  {
   "cell_type": "code",
   "execution_count": 11,
   "id": "6ee2d005",
   "metadata": {},
   "outputs": [],
   "source": [
    "f5_train = df_train.groupby(['drug', 'group'], as_index = False).rejected.mean()\n",
    "f5_train['f5'] = f5_train['rejected']\n",
    "del f5_train['rejected']\n",
    "df_train = pd.merge(df_train, f5_train, on = ['drug', 'group'], how = 'left')"
   ]
  },
  {
   "cell_type": "code",
   "execution_count": 12,
   "id": "0da266c1",
   "metadata": {},
   "outputs": [],
   "source": [
    "r_train = df_train.groupby(['diagnosis', 'drug', 'bin', 'pcn', 'group'], as_index = False).rejected.mean()\n",
    "r_train['r'] = r_train['rejected']\n",
    "del r_train['rejected']\n",
    "df_train = pd.merge(df_train, r_train, on = ['diagnosis', 'drug', 'bin', 'pcn', 'group'], how = 'left')"
   ]
  },
  {
   "cell_type": "code",
   "execution_count": 13,
   "id": "0ab3f5da",
   "metadata": {},
   "outputs": [],
   "source": [
    "f1_test = df_test.groupby(['drug'], as_index = False).rejected.mean()\n",
    "f1_test['f1'] = f1_test['rejected']\n",
    "del f1_test['rejected']\n",
    "df_test = pd.merge(df_test, f1_test, on = ['drug'], how = 'left')"
   ]
  },
  {
   "cell_type": "code",
   "execution_count": 14,
   "id": "21aa5447",
   "metadata": {},
   "outputs": [],
   "source": [
    "f2_test = df_test.groupby(['diagnosis', 'drug'], as_index = False).rejected.mean()\n",
    "f2_test['f2'] = f2_test['rejected']\n",
    "del f2_test['rejected']\n",
    "df_test = pd.merge(df_test, f2_test, on = ['diagnosis', 'drug'], how = 'left')"
   ]
  },
  {
   "cell_type": "code",
   "execution_count": 15,
   "id": "31bfbf16",
   "metadata": {},
   "outputs": [],
   "source": [
    "f3_test = df_test.groupby(['drug', 'bin'], as_index = False).rejected.mean()\n",
    "f3_test['f3'] = f3_test['rejected']\n",
    "del f3_test['rejected']\n",
    "df_test = pd.merge(df_test, f3_test, on = ['drug', 'bin'], how = 'left')"
   ]
  },
  {
   "cell_type": "code",
   "execution_count": 16,
   "id": "6176260f",
   "metadata": {},
   "outputs": [],
   "source": [
    "f4_test = df_test.groupby(['drug', 'pcn'], as_index = False).rejected.mean()\n",
    "f4_test['f4'] = f4_test['rejected']\n",
    "del f4_test['rejected']\n",
    "df_test = pd.merge(df_test, f4_test, on = ['drug', 'pcn'], how = 'left')"
   ]
  },
  {
   "cell_type": "code",
   "execution_count": 17,
   "id": "7486087f",
   "metadata": {},
   "outputs": [],
   "source": [
    "f5_test = df_test.groupby(['drug', 'group'], as_index = False).rejected.mean()\n",
    "f5_test['f5'] = f5_test['rejected']\n",
    "del f5_test['rejected']\n",
    "df_test = pd.merge(df_test, f5_test, on = ['drug', 'group'], how = 'left')"
   ]
  },
  {
   "cell_type": "code",
   "execution_count": 18,
   "id": "9ea225a9",
   "metadata": {},
   "outputs": [],
   "source": [
    "r_test = df_test.groupby(['diagnosis', 'drug', 'bin', 'pcn', 'group'], as_index = False).rejected.mean()\n",
    "r_test['r'] = r_test['rejected']\n",
    "del r_test['rejected']\n",
    "df_test = pd.merge(df_test, r_test, on = ['diagnosis', 'drug', 'bin', 'pcn', 'group'], how = 'left')"
   ]
  },
  {
   "cell_type": "code",
   "execution_count": 19,
   "id": "55dfb973",
   "metadata": {},
   "outputs": [],
   "source": [
    "X_train = df_train[['f1', 'f2', 'f3', 'f4', 'f5']]\n",
    "y_train = df_train['r']\n",
    "train_unique = df_train[['f1', 'f2', 'f3', 'f4', 'f5', 'r']].drop_duplicates()\n",
    "X_train_unique = train_unique[['f1', 'f2', 'f3', 'f4', 'f5']]\n",
    "y_train_unique = train_unique['r']\n",
    "X_test = df_test[['f1', 'f2', 'f3', 'f4', 'f5']]\n",
    "y_test = df_test['r']"
   ]
  },
  {
   "cell_type": "code",
   "execution_count": 20,
   "id": "ede5000e",
   "metadata": {},
   "outputs": [
    {
     "name": "stdout",
     "output_type": "stream",
     "text": [
      "0.025649374810661874\n",
      "0.008569398444661428\n",
      "0.9569008832439279\n"
     ]
    }
   ],
   "source": [
    "lr = LinearRegression()\n",
    "lr.fit(X_train_unique, y_train_unique)\n",
    "lr_pred = lr.predict(X_test)\n",
    "lr_pred[lr_pred < 0.027777777777777776] = 0\n",
    "print(mean_squared_error(lr_pred, y_test, squared = False))\n",
    "print(mean_absolute_error(lr_pred, y_test))\n",
    "print(r2_score(lr_pred, y_test))"
   ]
  },
  {
   "cell_type": "code",
   "execution_count": 21,
   "id": "d1c3320f",
   "metadata": {},
   "outputs": [
    {
     "name": "stdout",
     "output_type": "stream",
     "text": [
      "0.025565385982508217\n",
      "0.008395804609390715\n",
      "0.9578310372064467\n"
     ]
    }
   ],
   "source": [
    "lr = LinearRegression()\n",
    "lr.fit(X_train, y_train)\n",
    "lr_pred = lr.predict(X_test)\n",
    "lr_pred[lr_pred < 0.027777777777777776] = 0\n",
    "print(mean_squared_error(lr_pred, y_test, squared = False))\n",
    "print(mean_absolute_error(lr_pred, y_test))\n",
    "print(r2_score(lr_pred,y_test))"
   ]
  },
  {
   "cell_type": "code",
   "execution_count": 22,
   "id": "db991b38",
   "metadata": {},
   "outputs": [
    {
     "name": "stdout",
     "output_type": "stream",
     "text": [
      "0.025211334233811278\n",
      "0.008006671253351322\n",
      "0.9593117125759736\n"
     ]
    }
   ],
   "source": [
    "rf = RandomForestRegressor(n_estimators = 100, criterion = 'absolute_error')\n",
    "rf.fit(X_train_unique, y_train_unique)\n",
    "rf_pred = rf.predict(X_test)\n",
    "rf_pred[rf_pred < 0.027777777777777776] = 0\n",
    "print(mean_squared_error(rf_pred, y_test, squared = False))\n",
    "print(mean_absolute_error(rf_pred, y_test))\n",
    "print(r2_score(rf_pred, y_test))"
   ]
  },
  {
   "cell_type": "code",
   "execution_count": 23,
   "id": "7e6a1cd1",
   "metadata": {},
   "outputs": [],
   "source": [
    "#rf = RandomForestRegressor(n_estimators = 100, criterion = 'absolute_error')\n",
    "#rf.fit(X_train, y_train)\n",
    "#rf_pred = rf.predict(X_test)\n",
    "#rf_pred[rf_pred < 0.027777777777777776] = 0\n",
    "#print(mean_squared_error(rf_pred, y_test, squared = False))\n",
    "#print(mean_absolute_error(rf_pred, y_test))\n",
    "#print(r2_score(rf_pred, y_test))"
   ]
  },
  {
   "cell_type": "code",
   "execution_count": 24,
   "id": "7dab40ef",
   "metadata": {},
   "outputs": [
    {
     "name": "stdout",
     "output_type": "stream",
     "text": [
      "0.026195079964126164\n",
      "0.008003280581112524\n",
      "0.9555458991016184\n"
     ]
    }
   ],
   "source": [
    "ada = AdaBoostRegressor(n_estimators = 100, learning_rate = 0.01, loss = 'square')\n",
    "ada.fit(X_train_unique, y_train_unique)\n",
    "ada_pred = ada.predict(X_test)\n",
    "ada_pred[ada_pred < 0.027777777777777776] = 0\n",
    "print(mean_squared_error(ada_pred, y_test, squared = False))\n",
    "print(mean_absolute_error(ada_pred, y_test))\n",
    "print(r2_score(ada_pred, y_test))"
   ]
  },
  {
   "cell_type": "code",
   "execution_count": 25,
   "id": "ecc33b1b",
   "metadata": {},
   "outputs": [
    {
     "name": "stdout",
     "output_type": "stream",
     "text": [
      "0.027558065298082215\n",
      "0.008469256869749876\n",
      "0.9506361088221806\n"
     ]
    }
   ],
   "source": [
    "ada = AdaBoostRegressor(n_estimators = 100, learning_rate = 0.01, loss = 'square')\n",
    "ada.fit(X_train, y_train)\n",
    "ada_pred = ada.predict(X_test)\n",
    "ada_pred[ada_pred < 0.027777777777777776] = 0\n",
    "print(mean_squared_error(ada_pred, y_test, squared = False))\n",
    "print(mean_absolute_error(ada_pred, y_test))\n",
    "print(r2_score(ada_pred, y_test))"
   ]
  },
  {
   "cell_type": "code",
   "execution_count": 26,
   "id": "48e5b9f1",
   "metadata": {},
   "outputs": [
    {
     "name": "stdout",
     "output_type": "stream",
     "text": [
      "0.023344994556588918\n",
      "0.006707436931373519\n",
      "0.9646409857370748\n"
     ]
    }
   ],
   "source": [
    "gbr = GradientBoostingRegressor(loss='squared_error', n_estimators = 100, learning_rate = 0.12)\n",
    "gbr.fit(X_train_unique, y_train_unique)\n",
    "gbr_pred = gbr.predict(X_test)\n",
    "gbr_pred[gbr_pred < 0.027777777777777776] = 0\n",
    "print(mean_squared_error(gbr_pred, y_test, squared = False))\n",
    "print(mean_absolute_error(gbr_pred, y_test))\n",
    "print(r2_score(gbr_pred, y_test))"
   ]
  },
  {
   "cell_type": "code",
   "execution_count": 27,
   "id": "f82c4a21",
   "metadata": {},
   "outputs": [
    {
     "name": "stdout",
     "output_type": "stream",
     "text": [
      "0.02351732962925536\n",
      "0.006493487254495213\n",
      "0.964472021074293\n"
     ]
    }
   ],
   "source": [
    "gbr = GradientBoostingRegressor(loss='squared_error', n_estimators = 100, learning_rate = 0.12)\n",
    "gbr.fit(X_train, y_train)\n",
    "gbr_pred = gbr.predict(X_test)\n",
    "gbr_pred[gbr_pred < 0.027777777777777776] = 0\n",
    "print(mean_squared_error(gbr_pred, y_test, squared = False))\n",
    "print(mean_absolute_error(gbr_pred, y_test))\n",
    "print(r2_score(gbr_pred, y_test))"
   ]
  },
  {
   "cell_type": "code",
   "execution_count": 28,
   "id": "a25ab9ff",
   "metadata": {},
   "outputs": [
    {
     "name": "stdout",
     "output_type": "stream",
     "text": [
      "0.023089923885306934\n",
      "0.006511900006714385\n",
      "0.9655846196137259\n"
     ]
    }
   ],
   "source": [
    "hgb = HistGradientBoostingRegressor(loss = 'squared_error', learning_rate = 0.1, max_iter = 100)\n",
    "hgb.fit(X_train_unique, y_train_unique)\n",
    "hgb_pred = hgb.predict(X_test)\n",
    "hgb_pred[hgb_pred < 0.027777777777777776] = 0\n",
    "print(mean_squared_error(hgb_pred, y_test, squared = False))\n",
    "print(mean_absolute_error(hgb_pred, y_test))\n",
    "print(r2_score(hgb_pred, y_test))"
   ]
  },
  {
   "cell_type": "code",
   "execution_count": 29,
   "id": "1559d857",
   "metadata": {},
   "outputs": [
    {
     "name": "stdout",
     "output_type": "stream",
     "text": [
      "0.023367212504029237\n",
      "0.00621375107233528\n",
      "0.9651093123988523\n"
     ]
    }
   ],
   "source": [
    "hgb = HistGradientBoostingRegressor(loss = 'squared_error', learning_rate = 0.1, max_iter = 100)\n",
    "hgb.fit(X_train, y_train)\n",
    "hgb_pred = hgb.predict(X_test)\n",
    "hgb_pred[hgb_pred < 0.027777777777777776] = 0\n",
    "print(mean_squared_error(hgb_pred, y_test, squared = False))\n",
    "print(mean_absolute_error(hgb_pred, y_test))\n",
    "print(r2_score(hgb_pred, y_test))"
   ]
  },
  {
   "cell_type": "code",
   "execution_count": 30,
   "id": "9ebfd452",
   "metadata": {},
   "outputs": [
    {
     "name": "stdout",
     "output_type": "stream",
     "text": [
      "0.529316002452189\n",
      "1.0\n"
     ]
    }
   ],
   "source": [
    "print(max(hgb_pred))\n",
    "print(max(y_test))"
   ]
  },
  {
   "cell_type": "code",
   "execution_count": 31,
   "id": "34524f0f",
   "metadata": {},
   "outputs": [
    {
     "data": {
      "text/plain": [
       "0.9971355428291678"
      ]
     },
     "execution_count": 31,
     "metadata": {},
     "output_type": "execute_result"
    }
   ],
   "source": [
    "sum((hgb_pred == 0) & (y_test == 0)) / sum(y_test == 0)"
   ]
  },
  {
   "cell_type": "code",
   "execution_count": 32,
   "id": "98d2d377",
   "metadata": {},
   "outputs": [
    {
     "data": {
      "text/html": [
       "<div>\n",
       "<style scoped>\n",
       "    .dataframe tbody tr th:only-of-type {\n",
       "        vertical-align: middle;\n",
       "    }\n",
       "\n",
       "    .dataframe tbody tr th {\n",
       "        vertical-align: top;\n",
       "    }\n",
       "\n",
       "    .dataframe thead th {\n",
       "        text-align: right;\n",
       "    }\n",
       "</style>\n",
       "<table border=\"1\" class=\"dataframe\">\n",
       "  <thead>\n",
       "    <tr style=\"text-align: right;\">\n",
       "      <th></th>\n",
       "      <th>diagnosis</th>\n",
       "      <th>drug</th>\n",
       "      <th>bin</th>\n",
       "      <th>pcn</th>\n",
       "      <th>group</th>\n",
       "    </tr>\n",
       "  </thead>\n",
       "  <tbody>\n",
       "    <tr>\n",
       "      <th>0</th>\n",
       "      <td>Z20.23</td>\n",
       "      <td>branded vivafastat</td>\n",
       "      <td>664344</td>\n",
       "      <td>W1LW9Y</td>\n",
       "      <td>0OGKQ</td>\n",
       "    </tr>\n",
       "    <tr>\n",
       "      <th>1</th>\n",
       "      <td>G99.93</td>\n",
       "      <td>generic pucomalol</td>\n",
       "      <td>664344</td>\n",
       "      <td>TPJD</td>\n",
       "      <td>NAN</td>\n",
       "    </tr>\n",
       "    <tr>\n",
       "      <th>2</th>\n",
       "      <td>D13.25</td>\n",
       "      <td>branded plazamiglutic</td>\n",
       "      <td>160389</td>\n",
       "      <td>RB7UU</td>\n",
       "      <td>RS5RB3YA</td>\n",
       "    </tr>\n",
       "    <tr>\n",
       "      <th>3</th>\n",
       "      <td>U60.52</td>\n",
       "      <td>generic oxasoted</td>\n",
       "      <td>757349</td>\n",
       "      <td>RM0HB</td>\n",
       "      <td>SJVO3GXUURRGO</td>\n",
       "    </tr>\n",
       "    <tr>\n",
       "      <th>4</th>\n",
       "      <td>Q85.91</td>\n",
       "      <td>branded cupitelol</td>\n",
       "      <td>664344</td>\n",
       "      <td>NAN</td>\n",
       "      <td>52H8KH0F83K</td>\n",
       "    </tr>\n",
       "    <tr>\n",
       "      <th>...</th>\n",
       "      <td>...</td>\n",
       "      <td>...</td>\n",
       "      <td>...</td>\n",
       "      <td>...</td>\n",
       "      <td>...</td>\n",
       "    </tr>\n",
       "    <tr>\n",
       "      <th>2782044</th>\n",
       "      <td>Q85.91</td>\n",
       "      <td>branded rulfalol</td>\n",
       "      <td>956971</td>\n",
       "      <td>WM6A</td>\n",
       "      <td>L9QZA</td>\n",
       "    </tr>\n",
       "    <tr>\n",
       "      <th>2782045</th>\n",
       "      <td>Q85.91</td>\n",
       "      <td>generic rulfalol</td>\n",
       "      <td>322463</td>\n",
       "      <td>3Y5ZW0</td>\n",
       "      <td>NAN</td>\n",
       "    </tr>\n",
       "    <tr>\n",
       "      <th>2782046</th>\n",
       "      <td>H36.57</td>\n",
       "      <td>branded antimab</td>\n",
       "      <td>664344</td>\n",
       "      <td>YFVIA</td>\n",
       "      <td>AJK5MZ25T9IA</td>\n",
       "    </tr>\n",
       "    <tr>\n",
       "      <th>2782047</th>\n",
       "      <td>I68.27</td>\n",
       "      <td>generic prazinib</td>\n",
       "      <td>725700</td>\n",
       "      <td>327CKV</td>\n",
       "      <td>IOEAN1DWVV3Y</td>\n",
       "    </tr>\n",
       "    <tr>\n",
       "      <th>2782048</th>\n",
       "      <td>P07.55</td>\n",
       "      <td>branded sacrode</td>\n",
       "      <td>96934</td>\n",
       "      <td>S76J7V6</td>\n",
       "      <td>NAN</td>\n",
       "    </tr>\n",
       "  </tbody>\n",
       "</table>\n",
       "<p>2782049 rows × 5 columns</p>\n",
       "</div>"
      ],
      "text/plain": [
       "        diagnosis                   drug     bin      pcn          group\n",
       "0          Z20.23     branded vivafastat  664344   W1LW9Y          0OGKQ\n",
       "1          G99.93      generic pucomalol  664344     TPJD            NAN\n",
       "2          D13.25  branded plazamiglutic  160389    RB7UU       RS5RB3YA\n",
       "3          U60.52       generic oxasoted  757349    RM0HB  SJVO3GXUURRGO\n",
       "4          Q85.91      branded cupitelol  664344      NAN    52H8KH0F83K\n",
       "...           ...                    ...     ...      ...            ...\n",
       "2782044    Q85.91       branded rulfalol  956971     WM6A          L9QZA\n",
       "2782045    Q85.91       generic rulfalol  322463   3Y5ZW0            NAN\n",
       "2782046    H36.57        branded antimab  664344    YFVIA   AJK5MZ25T9IA\n",
       "2782047    I68.27       generic prazinib  725700   327CKV   IOEAN1DWVV3Y\n",
       "2782048    P07.55        branded sacrode   96934  S76J7V6            NAN\n",
       "\n",
       "[2782049 rows x 5 columns]"
      ]
     },
     "execution_count": 32,
     "metadata": {},
     "output_type": "execute_result"
    }
   ],
   "source": [
    "compare = df_test.copy()[['diagnosis', 'drug', 'bin', 'pcn', 'group']]\n",
    "compare"
   ]
  },
  {
   "cell_type": "code",
   "execution_count": 33,
   "id": "40d65ed4",
   "metadata": {},
   "outputs": [],
   "source": [
    "compare['hgb_pred_diff'] = abs(hgb_pred - y_test)"
   ]
  },
  {
   "cell_type": "code",
   "execution_count": 34,
   "id": "898e8abc",
   "metadata": {},
   "outputs": [
    {
     "data": {
      "image/png": "[encoded data removed]",
      "text/plain": [
       "<Figure size 432x288 with 1 Axes>"
      ]
     },
     "metadata": {
      "needs_background": "light"
     },
     "output_type": "display_data"
    }
   ],
   "source": [
    "compare_groups = compare.groupby(by = ['diagnosis', 'drug', 'bin', 'pcn', 'group'])\n",
    "compare_rates = compare_groups.mean()\n",
    "compare_counts = compare_groups.count()\n",
    "plt.plot(compare_counts['hgb_pred_diff'], compare_rates['hgb_pred_diff'], 'o', ms=0.5)\n",
    "plt.xscale('log')"
   ]
  },
  {
   "cell_type": "code",
   "execution_count": 38,
   "id": "d32d5606",
   "metadata": {},
   "outputs": [
    {
     "name": "stdout",
     "output_type": "stream",
     "text": [
      "0.9994365879767875\n",
      "0.1002130820158395\n",
      "0.038044084914071616\n",
      "0.4373294620599609\n"
     ]
    }
   ],
   "source": [
    "compare = df_test.copy()[['diagnosis', 'drug', 'bin', 'pcn', 'group']]\n",
    "compare['truth'] = y_test\n",
    "compare['prediction'] = hgb_pred\n",
    "compare_unique = compare.drop_duplicates(subset = ['diagnosis', 'drug', 'bin', 'pcn', 'group'])\n",
    "print(sum((compare_unique['truth'] == 0) & (compare_unique['prediction'] == 0)) / sum(compare_unique['prediction'] == 0))\n",
    "print(mean_squared_error(compare_unique['prediction'], compare_unique['truth'], squared = False))\n",
    "print(mean_absolute_error(compare_unique['prediction'], compare_unique['truth']))\n",
    "print(r2_score(compare_unique['prediction'], compare_unique['truth']))"
   ]
  },
  {
   "cell_type": "code",
   "execution_count": null,
   "id": "eb300952",
   "metadata": {},
   "outputs": [],
   "source": []
  }
 ],
 "metadata": {
  "kernelspec": {
   "display_name": "Python 3",
   "language": "python",
   "name": "python3"
  },
  "language_info": {
   "codemirror_mode": {
    "name": "ipython",
    "version": 3
   },
   "file_extension": ".py",
   "mimetype": "text/x-python",
   "name": "python",
   "nbconvert_exporter": "python",
   "pygments_lexer": "ipython3",
   "version": "3.9.5"
  }
 },
 "nbformat": 4,
 "nbformat_minor": 5
}
