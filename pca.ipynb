{
 "cells": [
  {
   "cell_type": "code",
   "execution_count": 1,
   "id": "07846fe2-41e3-4734-a939-4c363bfc5a2a",
   "metadata": {},
   "outputs": [],
   "source": [
    "# Import some standard packages.\n",
    "import numpy as np\n",
    "import pandas as pd\n",
    "import datetime\n",
    "import locale\n",
    "import matplotlib.pyplot as plt\n",
    "import plotly.express as px"
   ]
  },
  {
   "cell_type": "code",
   "execution_count": 2,
   "id": "4853f08c-d856-4afd-80be-19f3e68f16da",
   "metadata": {},
   "outputs": [],
   "source": [
    "#Import the data and convert the date to the appropriate type\n",
    "df = pd.read_csv('pharmacy_tx.csv', parse_dates=[0])"
   ]
  },
  {
   "cell_type": "code",
   "execution_count": 3,
   "id": "be964207-4803-4049-8bd0-93e8994747e1",
   "metadata": {},
   "outputs": [],
   "source": [
    "#We don't expect formulary status or patient pay to change by the day or week,\n",
    "#but month is important; e.g. patient pay is higher in January before the deductible is met.\n",
    "df['month'] = df['tx_date'].dt.month_name(locale = 'en_US')"
   ]
  },
  {
   "cell_type": "code",
   "execution_count": 4,
   "id": "c8b97d59-706c-4358-9774-7f5b889c103f",
   "metadata": {},
   "outputs": [],
   "source": [
    "#We split the entries in the 'drug' column according to whether they are branded or not.\n",
    "list_1 = []\n",
    "list_2 = []\n",
    "for s in df['drug']:\n",
    "    chemical = s.split(\" \")[1]\n",
    "    list_1.append(chemical)\n",
    "    branded_status = s.split(\" \")[0]\n",
    "    if branded_status == 'branded':\n",
    "        list_2.append(True)\n",
    "    else:\n",
    "        list_2.append(False)"
   ]
  },
  {
   "cell_type": "code",
   "execution_count": 5,
   "id": "4468570f-7cd5-4f5a-981a-4e23b6feeacd",
   "metadata": {},
   "outputs": [],
   "source": [
    "#Here are the new columns created by separating the branded or generic status.\n",
    "df['chemical'] = pd.DataFrame(list_1, columns = ['chemical'])\n",
    "df['branded'] = pd.DataFrame(list_2, columns=['branded'])"
   ]
  },
  {
   "cell_type": "code",
   "execution_count": 6,
   "id": "0bbb5fc0-42bc-4505-a492-78aff78937bb",
   "metadata": {},
   "outputs": [
    {
     "data": {
      "text/html": [
       "<div>\n",
       "<style scoped>\n",
       "    .dataframe tbody tr th:only-of-type {\n",
       "        vertical-align: middle;\n",
       "    }\n",
       "\n",
       "    .dataframe tbody tr th {\n",
       "        vertical-align: top;\n",
       "    }\n",
       "\n",
       "    .dataframe thead th {\n",
       "        text-align: right;\n",
       "    }\n",
       "</style>\n",
       "<table border=\"1\" class=\"dataframe\">\n",
       "  <thead>\n",
       "    <tr style=\"text-align: right;\">\n",
       "      <th></th>\n",
       "      <th>tx_date</th>\n",
       "      <th>pharmacy</th>\n",
       "      <th>diagnosis</th>\n",
       "      <th>drug</th>\n",
       "      <th>bin</th>\n",
       "      <th>pcn</th>\n",
       "      <th>group</th>\n",
       "      <th>rejected</th>\n",
       "      <th>patient_pay</th>\n",
       "      <th>month</th>\n",
       "      <th>chemical</th>\n",
       "      <th>branded</th>\n",
       "    </tr>\n",
       "  </thead>\n",
       "  <tbody>\n",
       "    <tr>\n",
       "      <th>0</th>\n",
       "      <td>2022-01-02</td>\n",
       "      <td>Pharmacy #6</td>\n",
       "      <td>G99.93</td>\n",
       "      <td>branded tanoclolol</td>\n",
       "      <td>725700</td>\n",
       "      <td>1UQC</td>\n",
       "      <td>NaN</td>\n",
       "      <td>False</td>\n",
       "      <td>13.39</td>\n",
       "      <td>January</td>\n",
       "      <td>tanoclolol</td>\n",
       "      <td>True</td>\n",
       "    </tr>\n",
       "    <tr>\n",
       "      <th>1</th>\n",
       "      <td>2022-01-02</td>\n",
       "      <td>Pharmacy #42</td>\n",
       "      <td>U60.52</td>\n",
       "      <td>branded oxasoted</td>\n",
       "      <td>664344</td>\n",
       "      <td>NaN</td>\n",
       "      <td>52H8KH0F83K</td>\n",
       "      <td>False</td>\n",
       "      <td>7.02</td>\n",
       "      <td>January</td>\n",
       "      <td>oxasoted</td>\n",
       "      <td>True</td>\n",
       "    </tr>\n",
       "    <tr>\n",
       "      <th>2</th>\n",
       "      <td>2022-01-02</td>\n",
       "      <td>Pharmacy #37</td>\n",
       "      <td>Q85.91</td>\n",
       "      <td>branded cupitelol</td>\n",
       "      <td>725700</td>\n",
       "      <td>1UQC</td>\n",
       "      <td>NaN</td>\n",
       "      <td>False</td>\n",
       "      <td>13.39</td>\n",
       "      <td>January</td>\n",
       "      <td>cupitelol</td>\n",
       "      <td>True</td>\n",
       "    </tr>\n",
       "    <tr>\n",
       "      <th>3</th>\n",
       "      <td>2022-01-02</td>\n",
       "      <td>Pharmacy #30</td>\n",
       "      <td>U60.52</td>\n",
       "      <td>generic oxasoted</td>\n",
       "      <td>571569</td>\n",
       "      <td>KB38N</td>\n",
       "      <td>6BYJBW</td>\n",
       "      <td>False</td>\n",
       "      <td>10.84</td>\n",
       "      <td>January</td>\n",
       "      <td>oxasoted</td>\n",
       "      <td>False</td>\n",
       "    </tr>\n",
       "    <tr>\n",
       "      <th>4</th>\n",
       "      <td>2022-01-02</td>\n",
       "      <td>Pharmacy #18</td>\n",
       "      <td>N55.01</td>\n",
       "      <td>branded mamate</td>\n",
       "      <td>664344</td>\n",
       "      <td>NaN</td>\n",
       "      <td>ZX2QUWR</td>\n",
       "      <td>False</td>\n",
       "      <td>47.00</td>\n",
       "      <td>January</td>\n",
       "      <td>mamate</td>\n",
       "      <td>True</td>\n",
       "    </tr>\n",
       "  </tbody>\n",
       "</table>\n",
       "</div>"
      ],
      "text/plain": [
       "     tx_date      pharmacy diagnosis                drug     bin    pcn  \\\n",
       "0 2022-01-02   Pharmacy #6    G99.93  branded tanoclolol  725700   1UQC   \n",
       "1 2022-01-02  Pharmacy #42    U60.52    branded oxasoted  664344    NaN   \n",
       "2 2022-01-02  Pharmacy #37    Q85.91   branded cupitelol  725700   1UQC   \n",
       "3 2022-01-02  Pharmacy #30    U60.52    generic oxasoted  571569  KB38N   \n",
       "4 2022-01-02  Pharmacy #18    N55.01      branded mamate  664344    NaN   \n",
       "\n",
       "         group  rejected  patient_pay    month    chemical  branded  \n",
       "0          NaN     False        13.39  January  tanoclolol     True  \n",
       "1  52H8KH0F83K     False         7.02  January    oxasoted     True  \n",
       "2          NaN     False        13.39  January   cupitelol     True  \n",
       "3       6BYJBW     False        10.84  January    oxasoted    False  \n",
       "4      ZX2QUWR     False        47.00  January      mamate     True  "
      ]
     },
     "execution_count": 6,
     "metadata": {},
     "output_type": "execute_result"
    }
   ],
   "source": [
    "#Let's have a look at the data\n",
    "df.head()"
   ]
  },
  {
   "cell_type": "code",
   "execution_count": 7,
   "id": "fbb707d7-5d40-474c-9fe3-8de355f5399b",
   "metadata": {},
   "outputs": [],
   "source": [
    "#We'll one-hot encode the drugs\n",
    "dummies = pd.get_dummies(df[['chemical']], drop_first=True)\n",
    "df = pd.concat([df.drop(['chemical'],axis=1), dummies],axis=1)"
   ]
  },
  {
   "cell_type": "code",
   "execution_count": 8,
   "id": "f0f1681e-873e-4ad7-8ccf-b9ba136604c0",
   "metadata": {},
   "outputs": [],
   "source": [
    "#Let's take a look at a big insurance company (bin:664344)\n",
    "df_1 = df[df['bin']==664344]"
   ]
  },
  {
   "cell_type": "code",
   "execution_count": 12,
   "id": "a59f6f87-b794-4f7a-a3ee-e8ac3732cddd",
   "metadata": {},
   "outputs": [],
   "source": [
    "#We'll concern ourselves only with the features 'rejected','patient_pay','branded', and the drugs.\n",
    "df_1 = df_1.drop(columns=['tx_date', 'pharmacy', 'diagnosis', 'drug', 'bin', 'pcn', 'group', 'month'])"
   ]
  },
  {
   "cell_type": "code",
   "execution_count": 14,
   "id": "4d4631ed-34dc-4879-9760-c3753ca33eff",
   "metadata": {},
   "outputs": [],
   "source": [
    "#Before we do a dimensionality reduction with PCA, we run it through a scaler\n",
    "from sklearn.preprocessing import StandardScaler\n",
    "scaler = StandardScaler()\n",
    "scaler.fit(df_1)\n",
    "scaled_df_1=scaler.transform(df_1)"
   ]
  },
  {
   "cell_type": "code",
   "execution_count": 15,
   "id": "52c565b7-f6f0-4b7e-8bec-b7f3a93d82c1",
   "metadata": {},
   "outputs": [
    {
     "data": {
      "text/plain": [
       "PCA(n_components=2)"
      ]
     },
     "execution_count": 15,
     "metadata": {},
     "output_type": "execute_result"
    }
   ],
   "source": [
    "#Now we'll do a PCA to reduce the dimension\n",
    "from sklearn.decomposition import PCA\n",
    "pca=PCA(n_components=2)\n",
    "pca.fit(scaled_df_1)"
   ]
  },
  {
   "cell_type": "code",
   "execution_count": 16,
   "id": "ffa1142f-b984-4132-9d5d-42ba5bcd7ded",
   "metadata": {},
   "outputs": [
    {
     "data": {
      "text/plain": [
       "(3855462, 2)"
      ]
     },
     "execution_count": 16,
     "metadata": {},
     "output_type": "execute_result"
    }
   ],
   "source": [
    "#The new data has only 2 components\n",
    "df_1_pca = pca.transform(scaled_df_1)\n",
    "df_1_pca.shape"
   ]
  },
  {
   "cell_type": "code",
   "execution_count": 18,
   "id": "f77baad8-bcc6-432d-a083-cd541908e769",
   "metadata": {},
   "outputs": [
    {
     "data": {
      "image/png": "[encoded data removed]",
      "text/plain": [
       "<Figure size 576x576 with 1 Axes>"
      ]
     },
     "metadata": {
      "needs_background": "light"
     },
     "output_type": "display_data"
    }
   ],
   "source": [
    "#Here's a matplotlib graph of the data\n",
    "%matplotlib inline\n",
    "plt.figure(figsize=(8,8))\n",
    "plt.scatter(df_1_pca[:,0],df_1_pca[:,1],c=df_1['branded'])\n",
    "plt.show()"
   ]
  },
  {
   "cell_type": "code",
   "execution_count": 19,
   "id": "1e964f0b-59ab-413b-9894-302f45200534",
   "metadata": {},
   "outputs": [],
   "source": [
    "#A plotly graph would probably be prettier, so we'll convert the transformed data into a dataframe\n",
    "df_1_PCA = pd.DataFrame(df_1_pca, columns=['x','y'])"
   ]
  },
  {
   "cell_type": "code",
   "execution_count": 22,
   "id": "c2b64123-8784-4368-9db3-8a0c5c8b58d4",
   "metadata": {},
   "outputs": [],
   "source": [
    "#These interactive graphs take alot of memory though\n",
    "#fig = px.scatter(df_1_PCA, x='x', y='y')\n",
    "#fig.show()"
   ]
  }
 ],
 "metadata": {
  "kernelspec": {
   "display_name": "Python 3",
   "language": "python",
   "name": "python3"
  },
  "language_info": {
   "codemirror_mode": {
    "name": "ipython",
    "version": 3
   },
   "file_extension": ".py",
   "mimetype": "text/x-python",
   "name": "python",
   "nbconvert_exporter": "python",
   "pygments_lexer": "ipython3",
   "version": "3.8.8"
  }
 },
 "nbformat": 4,
 "nbformat_minor": 5
}
